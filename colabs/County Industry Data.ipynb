{
 "cells": [
  {
   "cell_type": "markdown",
   "id": "revised-dominant",
   "metadata": {},
   "source": [
    "# Implementation of model.earth page - Part 1\n",
    "\n",
    "Using the [write up](https://model.earth/localsite/info/data/) by Catherine from EPA as a guide.\n",
    "\n",
    "With modifications from Loren: `add display of counties for Motor Vehicle Manufacturing as both 4-digit 3361 and 6-digit 336111. Let’s look at Georgia, Alabama, California and Nevada.`"
   ]
  },
  {
   "cell_type": "code",
   "execution_count": 1,
   "id": "blank-scout",
   "metadata": {},
   "outputs": [],
   "source": [
    "# if running in colab uncomment next line\n",
    "#!pip install git+https://github.com/modelearth/flowsa -q"
   ]
  },
  {
   "cell_type": "code",
   "execution_count": 2,
   "id": "proud-hampton",
   "metadata": {},
   "outputs": [],
   "source": [
    "import flowsa\n",
    "import pandas as pd"
   ]
  },
  {
   "cell_type": "markdown",
   "id": "synthetic-stock",
   "metadata": {},
   "source": [
    "## getFlowByActivity\n",
    "\n",
    "This is the API function we'll be using.  They have docstrings to look at."
   ]
  },
  {
   "cell_type": "code",
   "execution_count": 3,
   "id": "expired-voice",
   "metadata": {},
   "outputs": [
    {
     "name": "stdout",
     "output_type": "stream",
     "text": [
      "Help on function getFlowByActivity in module flowsa:\n",
      "\n",
      "getFlowByActivity(flowclass, years, datasource, geographic_level='all', file_location='local')\n",
      "    Retrieves stored data in the FlowByActivity format\n",
      "    :param flowclass: list, a list of`Class' of the flow. required. E.g. ['Water'] or\n",
      "     ['Land', 'Other']\n",
      "    :param year: list, a list of years [2015], or [2010,2011,2012]\n",
      "    :param datasource: str, the code of the datasource.\n",
      "    :param geographic_level: 'all', 'national', 'state', 'county'. Default is 'all'\n",
      "    :param file_location: 'local' or 'remote'. Default is 'local'\n",
      "    :return: a pandas DataFrame in FlowByActivity format\n",
      "\n"
     ]
    }
   ],
   "source": [
    "help(flowsa.getFlowByActivity)"
   ]
  },
  {
   "cell_type": "markdown",
   "id": "combined-patent",
   "metadata": {},
   "source": [
    "## Use API - returns dataframe"
   ]
  },
  {
   "cell_type": "code",
   "execution_count": 4,
   "id": "crazy-continuity",
   "metadata": {},
   "outputs": [
    {
     "name": "stdout",
     "output_type": "stream",
     "text": [
      "2021-02-24 07:20:39 INFO     BLS_QCEW_2018.parquet not found in local folder; loading from remote server...\n"
     ]
    }
   ],
   "source": [
    "df = flowsa.getFlowByActivity(flowclass=['Employment', 'Money', 'Other'], years=[2018], datasource=\"BLS_QCEW\")"
   ]
  },
  {
   "cell_type": "markdown",
   "id": "parental-oasis",
   "metadata": {},
   "source": [
    "## Some standard dataframe analysis.\n",
    "  1.  Size\n",
    "  2.  dtypes\n",
    "  3.  isnull values\n",
    "  4.  ...\n",
    "  \n",
    "I'll go through it my way for the first df.  You can apply your favorite techniques (i.e. plots, ...)"
   ]
  },
  {
   "cell_type": "code",
   "execution_count": 5,
   "id": "adjusted-pepper",
   "metadata": {},
   "outputs": [
    {
     "data": {
      "text/plain": [
       "(8119338, 20)"
      ]
     },
     "execution_count": 5,
     "metadata": {},
     "output_type": "execute_result"
    }
   ],
   "source": [
    "df.shape"
   ]
  },
  {
   "cell_type": "code",
   "execution_count": 6,
   "id": "mathematical-lightweight",
   "metadata": {},
   "outputs": [
    {
     "name": "stdout",
     "output_type": "stream",
     "text": [
      "<class 'pandas.core.frame.DataFrame'>\n",
      "Int64Index: 8119338 entries, 0 to 8119337\n",
      "Data columns (total 20 columns):\n",
      " #   Column              Non-Null Count    Dtype  \n",
      "---  ------              --------------    -----  \n",
      " 0   Class               8119338 non-null  object \n",
      " 1   SourceName          8119338 non-null  object \n",
      " 2   FlowName            8119338 non-null  object \n",
      " 3   FlowAmount          8119338 non-null  float64\n",
      " 4   Unit                8119338 non-null  object \n",
      " 5   FlowType            8119338 non-null  object \n",
      " 6   ActivityProducedBy  8119338 non-null  object \n",
      " 7   ActivityConsumedBy  0 non-null        object \n",
      " 8   Compartment         0 non-null        object \n",
      " 9   Location            8119338 non-null  object \n",
      " 10  LocationSystem      8119338 non-null  object \n",
      " 11  Year                8119338 non-null  int32  \n",
      " 12  MeasureofSpread     0 non-null        object \n",
      " 13  Spread              8119338 non-null  float64\n",
      " 14  DistributionType    0 non-null        object \n",
      " 15  Min                 8119338 non-null  float64\n",
      " 16  Max                 8119338 non-null  float64\n",
      " 17  DataReliability     8119338 non-null  float64\n",
      " 18  DataCollection      8119338 non-null  float64\n",
      " 19  Description         0 non-null        object \n",
      "dtypes: float64(6), int32(1), object(13)\n",
      "memory usage: 1.2+ GB\n"
     ]
    }
   ],
   "source": [
    "#info function in colab doesn't support this parameter\n",
    "#df.info(show_counts=True) \n",
    "df.info()"
   ]
  },
  {
   "cell_type": "code",
   "execution_count": 7,
   "id": "verified-vacuum",
   "metadata": {},
   "outputs": [
    {
     "data": {
      "text/plain": [
       "Class                       0\n",
       "SourceName                  0\n",
       "FlowName                    0\n",
       "FlowAmount                  0\n",
       "Unit                        0\n",
       "FlowType                    0\n",
       "ActivityProducedBy          0\n",
       "ActivityConsumedBy    8119338\n",
       "Compartment           8119338\n",
       "Location                    0\n",
       "LocationSystem              0\n",
       "Year                        0\n",
       "MeasureofSpread       8119338\n",
       "Spread                      0\n",
       "DistributionType      8119338\n",
       "Min                         0\n",
       "Max                         0\n",
       "DataReliability             0\n",
       "DataCollection              0\n",
       "Description           8119338\n",
       "dtype: int64"
      ]
     },
     "execution_count": 7,
     "metadata": {},
     "output_type": "execute_result"
    }
   ],
   "source": [
    "df.isnull().sum()"
   ]
  },
  {
   "cell_type": "markdown",
   "id": "magnetic-grounds",
   "metadata": {},
   "source": [
    "### FIPS codes\n",
    "\n",
    "This df was generated with the default geographic_level (all) meaning it returns both state and county FIPS values.  Let's check that out for GA (FIPS = 13000)."
   ]
  },
  {
   "cell_type": "code",
   "execution_count": 8,
   "id": "systematic-barbados",
   "metadata": {},
   "outputs": [
    {
     "data": {
      "text/plain": [
       "array(['13000', '13001', '13003', '13005', '13007', '13009', '13011',\n",
       "       '13013', '13015', '13017', '13019', '13021', '13023', '13025',\n",
       "       '13027', '13029', '13031', '13033', '13035', '13037', '13039',\n",
       "       '13043', '13045', '13047', '13049', '13051', '13053', '13055',\n",
       "       '13057', '13059', '13061', '13063', '13065', '13067', '13069',\n",
       "       '13071', '13073', '13075', '13077', '13079', '13081', '13083',\n",
       "       '13085', '13087', '13089', '13091', '13093', '13095', '13097',\n",
       "       '13099', '13101', '13103', '13105', '13107', '13109', '13111',\n",
       "       '13113', '13115', '13117', '13119', '13121', '13123', '13125',\n",
       "       '13127', '13129', '13131', '13133', '13135', '13137', '13139',\n",
       "       '13141', '13143', '13145', '13147', '13149', '13151', '13153',\n",
       "       '13155', '13157', '13159', '13161', '13163', '13165', '13167',\n",
       "       '13169', '13171', '13173', '13175', '13177', '13179', '13181',\n",
       "       '13183', '13185', '13187', '13189', '13191', '13193', '13195',\n",
       "       '13197', '13199', '13201', '13205', '13207', '13209', '13211',\n",
       "       '13213', '13215', '13217', '13219', '13221', '13223', '13225',\n",
       "       '13227', '13229', '13231', '13233', '13235', '13237', '13239',\n",
       "       '13241', '13243', '13245', '13247', '13249', '13251', '13253',\n",
       "       '13255', '13257', '13259', '13261', '13263', '13265', '13267',\n",
       "       '13269', '13271', '13273', '13275', '13277', '13279', '13281',\n",
       "       '13283', '13285', '13287', '13289', '13291', '13293', '13295',\n",
       "       '13297', '13299', '13301', '13303', '13305', '13307', '13309',\n",
       "       '13311', '13313', '13315', '13317', '13319', '13321', '13999'],\n",
       "      dtype=object)"
      ]
     },
     "execution_count": 8,
     "metadata": {},
     "output_type": "execute_result"
    }
   ],
   "source": [
    "df[df.Location.str.startswith('13')]['Location'].unique()"
   ]
  },
  {
   "cell_type": "code",
   "execution_count": 9,
   "id": "genetic-favorite",
   "metadata": {},
   "outputs": [
    {
     "data": {
      "text/plain": [
       "161"
      ]
     },
     "execution_count": 9,
     "metadata": {},
     "output_type": "execute_result"
    }
   ],
   "source": [
    "len(_)"
   ]
  },
  {
   "cell_type": "markdown",
   "id": "frequent-stick",
   "metadata": {},
   "source": [
    "There are 159 counties in GA according to wikipedia.  Since the count is including the state fips and there looks to be a weird one, 13999, I think it's good."
   ]
  },
  {
   "cell_type": "code",
   "execution_count": 10,
   "id": "aquatic-receiver",
   "metadata": {},
   "outputs": [],
   "source": [
    "#df = flowsa.getFlowByActivity(flowclass=['Employment', 'Money', 'Other'], years=[2015, 2016], datasource=\"BLS_QCEW\")"
   ]
  },
  {
   "cell_type": "code",
   "execution_count": 11,
   "id": "rural-vienna",
   "metadata": {},
   "outputs": [],
   "source": [
    "from flowsa.common import fbaoutputpath"
   ]
  },
  {
   "cell_type": "code",
   "execution_count": 12,
   "id": "surprised-tracker",
   "metadata": {},
   "outputs": [],
   "source": [
    "fc=['Employment', 'Money', 'Other']\n",
    "years=[2018]\n",
    "ds=\"BLS_QCEW\""
   ]
  },
  {
   "cell_type": "markdown",
   "id": "valid-medication",
   "metadata": {},
   "source": [
    "## County level data\n",
    "Digressing a bit from the write up on model.earth at this point."
   ]
  },
  {
   "cell_type": "code",
   "execution_count": 13,
   "id": "surprising-night",
   "metadata": {},
   "outputs": [
    {
     "name": "stdout",
     "output_type": "stream",
     "text": [
      "2021-02-24 07:20:55 INFO     BLS_QCEW_2018.parquet not found in local folder; loading from remote server...\n"
     ]
    }
   ],
   "source": [
    "# using the county geographic_level\n",
    "county_df = flowsa.getFlowByActivity(flowclass=fc, years=years, datasource=ds, geographic_level='county')"
   ]
  },
  {
   "cell_type": "code",
   "execution_count": 14,
   "id": "sophisticated-implementation",
   "metadata": {},
   "outputs": [
    {
     "data": {
      "text/plain": [
       "(7584573, 20)"
      ]
     },
     "execution_count": 14,
     "metadata": {},
     "output_type": "execute_result"
    }
   ],
   "source": [
    "county_df.shape"
   ]
  },
  {
   "cell_type": "markdown",
   "id": "alien-cookie",
   "metadata": {},
   "source": [
    "## Build dataframe with state specific rows."
   ]
  },
  {
   "cell_type": "code",
   "execution_count": 15,
   "id": "fourth-colorado",
   "metadata": {},
   "outputs": [],
   "source": [
    "# Create new column with first two digits of Location representing state\n",
    "county_df = county_df.assign(StateFIPS=county_df['Location'].apply(lambda x: x[0:2]))"
   ]
  },
  {
   "cell_type": "code",
   "execution_count": 16,
   "id": "controversial-greenhouse",
   "metadata": {},
   "outputs": [],
   "source": [
    "# create subset with the states, AL, GA, CA, NV\n",
    "state_subset_df = county_df[county_df['StateFIPS'].isin(['01', '06', '13', '32'])].reset_index(drop=True)"
   ]
  },
  {
   "cell_type": "code",
   "execution_count": 17,
   "id": "young-board",
   "metadata": {},
   "outputs": [
    {
     "data": {
      "text/plain": [
       "(742038, 21)"
      ]
     },
     "execution_count": 17,
     "metadata": {},
     "output_type": "execute_result"
    }
   ],
   "source": [
    "state_subset_df.shape"
   ]
  },
  {
   "cell_type": "code",
   "execution_count": 18,
   "id": "criminal-record",
   "metadata": {},
   "outputs": [
    {
     "data": {
      "text/plain": [
       "13    322428\n",
       "06    225264\n",
       "01    157185\n",
       "32     37161\n",
       "Name: StateFIPS, dtype: int64"
      ]
     },
     "execution_count": 18,
     "metadata": {},
     "output_type": "execute_result"
    }
   ],
   "source": [
    "state_subset_df['StateFIPS'].value_counts()"
   ]
  },
  {
   "cell_type": "markdown",
   "id": "divided-monkey",
   "metadata": {},
   "source": [
    "So this makes sense."
   ]
  },
  {
   "cell_type": "markdown",
   "id": "impaired-questionnaire",
   "metadata": {},
   "source": [
    "## Further filter for NAICS of interest\n",
    "\n",
    "Based on discussion with Loren I am simplifying to auto manufacturing type codes."
   ]
  },
  {
   "cell_type": "code",
   "execution_count": 19,
   "id": "weekly-karaoke",
   "metadata": {},
   "outputs": [
    {
     "data": {
      "text/plain": [
       "2229"
      ]
     },
     "execution_count": 19,
     "metadata": {},
     "output_type": "execute_result"
    }
   ],
   "source": [
    "len(state_subset_df.ActivityProducedBy.unique())"
   ]
  },
  {
   "cell_type": "code",
   "execution_count": 20,
   "id": "impaired-mistress",
   "metadata": {},
   "outputs": [],
   "source": [
    "state_subset_df_auto = state_subset_df[state_subset_df['ActivityProducedBy'].isin(['3361', '336111'])].reset_index(drop=True)"
   ]
  },
  {
   "cell_type": "code",
   "execution_count": 21,
   "id": "moderate-measurement",
   "metadata": {},
   "outputs": [
    {
     "data": {
      "text/plain": [
       "237"
      ]
     },
     "execution_count": 21,
     "metadata": {},
     "output_type": "execute_result"
    }
   ],
   "source": [
    "len(state_subset_df_auto)"
   ]
  },
  {
   "cell_type": "markdown",
   "id": "modular-alaska",
   "metadata": {},
   "source": [
    "We now have a very managable data set to understand how to roll things around.  It contains information on two NAICS codes and 4 states."
   ]
  },
  {
   "cell_type": "markdown",
   "id": "described-prime",
   "metadata": {},
   "source": [
    "## Transform df to generate required csv\n",
    "\n",
    "I am going to simplify and just look at GA for starters and a subset of the columns."
   ]
  },
  {
   "cell_type": "code",
   "execution_count": 22,
   "id": "beneficial-harbor",
   "metadata": {},
   "outputs": [],
   "source": [
    "georgia_df = state_subset_df_auto.query(f\"StateFIPS == '13'\").reset_index(drop=True)[['Location', 'ActivityProducedBy', 'Class', 'FlowAmount']]"
   ]
  },
  {
   "cell_type": "code",
   "execution_count": 23,
   "id": "spectacular-egyptian",
   "metadata": {},
   "outputs": [],
   "source": [
    "georgia_df = georgia_df.rename(columns={'Location': 'fips', 'ActivityProducedBy': 'naics'})"
   ]
  },
  {
   "cell_type": "markdown",
   "id": "based-finder",
   "metadata": {},
   "source": [
    "Final prep on the df before we group and generate the df that can be used for the csv file."
   ]
  },
  {
   "cell_type": "code",
   "execution_count": 24,
   "id": "gross-norfolk",
   "metadata": {},
   "outputs": [],
   "source": [
    "new_column_names = {'Employment': 'employees', 'Money': 'wages', 'Other': 'firms'}\n",
    "\n",
    "georgia_df['Class'] = georgia_df['Class'].apply(lambda r: new_column_names[r])"
   ]
  },
  {
   "cell_type": "markdown",
   "id": "passive-bulgaria",
   "metadata": {},
   "source": [
    "Let's take a peek at the dataframe now."
   ]
  },
  {
   "cell_type": "markdown",
   "id": "efficient-pride",
   "metadata": {},
   "source": [
    "Finally, this code snippet groups the data, iterates, and builds the final df.  Someone can show me if there's a `simple` pandas method to do this?"
   ]
  },
  {
   "cell_type": "code",
   "execution_count": 25,
   "id": "seeing-setup",
   "metadata": {},
   "outputs": [
    {
     "data": {
      "text/html": [
       "<div>\n",
       "<style scoped>\n",
       "    .dataframe tbody tr th:only-of-type {\n",
       "        vertical-align: middle;\n",
       "    }\n",
       "\n",
       "    .dataframe tbody tr th {\n",
       "        vertical-align: top;\n",
       "    }\n",
       "\n",
       "    .dataframe thead th {\n",
       "        text-align: right;\n",
       "    }\n",
       "</style>\n",
       "<table border=\"1\" class=\"dataframe\">\n",
       "  <thead>\n",
       "    <tr style=\"text-align: right;\">\n",
       "      <th></th>\n",
       "      <th>fips</th>\n",
       "      <th>naics</th>\n",
       "      <th>employees</th>\n",
       "      <th>firms</th>\n",
       "      <th>wages</th>\n",
       "    </tr>\n",
       "  </thead>\n",
       "  <tbody>\n",
       "    <tr>\n",
       "      <th>0</th>\n",
       "      <td>13013</td>\n",
       "      <td>3361</td>\n",
       "      <td>0.0</td>\n",
       "      <td>1.0</td>\n",
       "      <td>0.0</td>\n",
       "    </tr>\n",
       "    <tr>\n",
       "      <th>1</th>\n",
       "      <td>13013</td>\n",
       "      <td>336111</td>\n",
       "      <td>0.0</td>\n",
       "      <td>1.0</td>\n",
       "      <td>0.0</td>\n",
       "    </tr>\n",
       "    <tr>\n",
       "      <th>2</th>\n",
       "      <td>13067</td>\n",
       "      <td>3361</td>\n",
       "      <td>0.0</td>\n",
       "      <td>1.0</td>\n",
       "      <td>0.0</td>\n",
       "    </tr>\n",
       "    <tr>\n",
       "      <th>3</th>\n",
       "      <td>13089</td>\n",
       "      <td>3361</td>\n",
       "      <td>0.0</td>\n",
       "      <td>1.0</td>\n",
       "      <td>0.0</td>\n",
       "    </tr>\n",
       "    <tr>\n",
       "      <th>4</th>\n",
       "      <td>13089</td>\n",
       "      <td>336111</td>\n",
       "      <td>0.0</td>\n",
       "      <td>1.0</td>\n",
       "      <td>0.0</td>\n",
       "    </tr>\n",
       "    <tr>\n",
       "      <th>5</th>\n",
       "      <td>13119</td>\n",
       "      <td>3361</td>\n",
       "      <td>0.0</td>\n",
       "      <td>1.0</td>\n",
       "      <td>0.0</td>\n",
       "    </tr>\n",
       "    <tr>\n",
       "      <th>6</th>\n",
       "      <td>13119</td>\n",
       "      <td>336111</td>\n",
       "      <td>0.0</td>\n",
       "      <td>1.0</td>\n",
       "      <td>0.0</td>\n",
       "    </tr>\n",
       "    <tr>\n",
       "      <th>7</th>\n",
       "      <td>13121</td>\n",
       "      <td>3361</td>\n",
       "      <td>0.0</td>\n",
       "      <td>3.0</td>\n",
       "      <td>0.0</td>\n",
       "    </tr>\n",
       "    <tr>\n",
       "      <th>8</th>\n",
       "      <td>13121</td>\n",
       "      <td>336111</td>\n",
       "      <td>0.0</td>\n",
       "      <td>3.0</td>\n",
       "      <td>0.0</td>\n",
       "    </tr>\n",
       "    <tr>\n",
       "      <th>9</th>\n",
       "      <td>13135</td>\n",
       "      <td>3361</td>\n",
       "      <td>0.0</td>\n",
       "      <td>1.0</td>\n",
       "      <td>0.0</td>\n",
       "    </tr>\n",
       "    <tr>\n",
       "      <th>10</th>\n",
       "      <td>13135</td>\n",
       "      <td>336111</td>\n",
       "      <td>0.0</td>\n",
       "      <td>1.0</td>\n",
       "      <td>0.0</td>\n",
       "    </tr>\n",
       "    <tr>\n",
       "      <th>11</th>\n",
       "      <td>13143</td>\n",
       "      <td>3361</td>\n",
       "      <td>0.0</td>\n",
       "      <td>1.0</td>\n",
       "      <td>0.0</td>\n",
       "    </tr>\n",
       "    <tr>\n",
       "      <th>12</th>\n",
       "      <td>13143</td>\n",
       "      <td>336111</td>\n",
       "      <td>0.0</td>\n",
       "      <td>1.0</td>\n",
       "      <td>0.0</td>\n",
       "    </tr>\n",
       "    <tr>\n",
       "      <th>13</th>\n",
       "      <td>13151</td>\n",
       "      <td>3361</td>\n",
       "      <td>0.0</td>\n",
       "      <td>2.0</td>\n",
       "      <td>0.0</td>\n",
       "    </tr>\n",
       "    <tr>\n",
       "      <th>14</th>\n",
       "      <td>13151</td>\n",
       "      <td>336111</td>\n",
       "      <td>0.0</td>\n",
       "      <td>2.0</td>\n",
       "      <td>0.0</td>\n",
       "    </tr>\n",
       "    <tr>\n",
       "      <th>15</th>\n",
       "      <td>13157</td>\n",
       "      <td>3361</td>\n",
       "      <td>0.0</td>\n",
       "      <td>1.0</td>\n",
       "      <td>0.0</td>\n",
       "    </tr>\n",
       "    <tr>\n",
       "      <th>16</th>\n",
       "      <td>13157</td>\n",
       "      <td>336111</td>\n",
       "      <td>0.0</td>\n",
       "      <td>1.0</td>\n",
       "      <td>0.0</td>\n",
       "    </tr>\n",
       "    <tr>\n",
       "      <th>17</th>\n",
       "      <td>13185</td>\n",
       "      <td>3361</td>\n",
       "      <td>0.0</td>\n",
       "      <td>1.0</td>\n",
       "      <td>0.0</td>\n",
       "    </tr>\n",
       "    <tr>\n",
       "      <th>18</th>\n",
       "      <td>13185</td>\n",
       "      <td>336111</td>\n",
       "      <td>0.0</td>\n",
       "      <td>1.0</td>\n",
       "      <td>0.0</td>\n",
       "    </tr>\n",
       "    <tr>\n",
       "      <th>19</th>\n",
       "      <td>13285</td>\n",
       "      <td>3361</td>\n",
       "      <td>0.0</td>\n",
       "      <td>3.0</td>\n",
       "      <td>0.0</td>\n",
       "    </tr>\n",
       "    <tr>\n",
       "      <th>20</th>\n",
       "      <td>13285</td>\n",
       "      <td>336111</td>\n",
       "      <td>0.0</td>\n",
       "      <td>3.0</td>\n",
       "      <td>0.0</td>\n",
       "    </tr>\n",
       "    <tr>\n",
       "      <th>21</th>\n",
       "      <td>13299</td>\n",
       "      <td>3361</td>\n",
       "      <td>0.0</td>\n",
       "      <td>1.0</td>\n",
       "      <td>0.0</td>\n",
       "    </tr>\n",
       "    <tr>\n",
       "      <th>22</th>\n",
       "      <td>13313</td>\n",
       "      <td>3361</td>\n",
       "      <td>0.0</td>\n",
       "      <td>1.0</td>\n",
       "      <td>0.0</td>\n",
       "    </tr>\n",
       "    <tr>\n",
       "      <th>23</th>\n",
       "      <td>13313</td>\n",
       "      <td>336111</td>\n",
       "      <td>0.0</td>\n",
       "      <td>1.0</td>\n",
       "      <td>0.0</td>\n",
       "    </tr>\n",
       "  </tbody>\n",
       "</table>\n",
       "</div>"
      ],
      "text/plain": [
       "     fips   naics  employees  firms  wages\n",
       "0   13013    3361        0.0    1.0    0.0\n",
       "1   13013  336111        0.0    1.0    0.0\n",
       "2   13067    3361        0.0    1.0    0.0\n",
       "3   13089    3361        0.0    1.0    0.0\n",
       "4   13089  336111        0.0    1.0    0.0\n",
       "5   13119    3361        0.0    1.0    0.0\n",
       "6   13119  336111        0.0    1.0    0.0\n",
       "7   13121    3361        0.0    3.0    0.0\n",
       "8   13121  336111        0.0    3.0    0.0\n",
       "9   13135    3361        0.0    1.0    0.0\n",
       "10  13135  336111        0.0    1.0    0.0\n",
       "11  13143    3361        0.0    1.0    0.0\n",
       "12  13143  336111        0.0    1.0    0.0\n",
       "13  13151    3361        0.0    2.0    0.0\n",
       "14  13151  336111        0.0    2.0    0.0\n",
       "15  13157    3361        0.0    1.0    0.0\n",
       "16  13157  336111        0.0    1.0    0.0\n",
       "17  13185    3361        0.0    1.0    0.0\n",
       "18  13185  336111        0.0    1.0    0.0\n",
       "19  13285    3361        0.0    3.0    0.0\n",
       "20  13285  336111        0.0    3.0    0.0\n",
       "21  13299    3361        0.0    1.0    0.0\n",
       "22  13313    3361        0.0    1.0    0.0\n",
       "23  13313  336111        0.0    1.0    0.0"
      ]
     },
     "execution_count": 25,
     "metadata": {},
     "output_type": "execute_result"
    }
   ],
   "source": [
    "rows = []\n",
    "cols = ['fips', 'naics', 'employees', 'firms', 'wages']\n",
    "grouped_df = georgia_df.groupby(['fips', 'naics', 'Class'])['FlowAmount'].sum().unstack()\n",
    "for index, row in grouped_df.iterrows():\n",
    "    rows.append([index[0], index[1], row.employees, row.firms, row.wages])\n",
    "    \n",
    "pd.DataFrame(data=rows, columns=cols)"
   ]
  },
  {
   "cell_type": "markdown",
   "id": "consistent-creator",
   "metadata": {},
   "source": [
    "Whole lot of 0.0??"
   ]
  },
  {
   "cell_type": "code",
   "execution_count": 26,
   "id": "experimental-transformation",
   "metadata": {},
   "outputs": [
    {
     "data": {
      "text/html": [
       "<div>\n",
       "<style scoped>\n",
       "    .dataframe tbody tr th:only-of-type {\n",
       "        vertical-align: middle;\n",
       "    }\n",
       "\n",
       "    .dataframe tbody tr th {\n",
       "        vertical-align: top;\n",
       "    }\n",
       "\n",
       "    .dataframe thead th {\n",
       "        text-align: right;\n",
       "    }\n",
       "</style>\n",
       "<table border=\"1\" class=\"dataframe\">\n",
       "  <thead>\n",
       "    <tr style=\"text-align: right;\">\n",
       "      <th></th>\n",
       "      <th>fips</th>\n",
       "      <th>naics</th>\n",
       "      <th>Class</th>\n",
       "      <th>FlowAmount</th>\n",
       "    </tr>\n",
       "  </thead>\n",
       "  <tbody>\n",
       "    <tr>\n",
       "      <th>24</th>\n",
       "      <td>13013</td>\n",
       "      <td>3361</td>\n",
       "      <td>wages</td>\n",
       "      <td>0.0</td>\n",
       "    </tr>\n",
       "    <tr>\n",
       "      <th>25</th>\n",
       "      <td>13013</td>\n",
       "      <td>336111</td>\n",
       "      <td>wages</td>\n",
       "      <td>0.0</td>\n",
       "    </tr>\n",
       "    <tr>\n",
       "      <th>26</th>\n",
       "      <td>13067</td>\n",
       "      <td>3361</td>\n",
       "      <td>wages</td>\n",
       "      <td>0.0</td>\n",
       "    </tr>\n",
       "    <tr>\n",
       "      <th>27</th>\n",
       "      <td>13089</td>\n",
       "      <td>3361</td>\n",
       "      <td>wages</td>\n",
       "      <td>0.0</td>\n",
       "    </tr>\n",
       "    <tr>\n",
       "      <th>28</th>\n",
       "      <td>13089</td>\n",
       "      <td>336111</td>\n",
       "      <td>wages</td>\n",
       "      <td>0.0</td>\n",
       "    </tr>\n",
       "    <tr>\n",
       "      <th>29</th>\n",
       "      <td>13119</td>\n",
       "      <td>3361</td>\n",
       "      <td>wages</td>\n",
       "      <td>0.0</td>\n",
       "    </tr>\n",
       "    <tr>\n",
       "      <th>30</th>\n",
       "      <td>13119</td>\n",
       "      <td>336111</td>\n",
       "      <td>wages</td>\n",
       "      <td>0.0</td>\n",
       "    </tr>\n",
       "    <tr>\n",
       "      <th>31</th>\n",
       "      <td>13121</td>\n",
       "      <td>3361</td>\n",
       "      <td>wages</td>\n",
       "      <td>0.0</td>\n",
       "    </tr>\n",
       "    <tr>\n",
       "      <th>32</th>\n",
       "      <td>13121</td>\n",
       "      <td>336111</td>\n",
       "      <td>wages</td>\n",
       "      <td>0.0</td>\n",
       "    </tr>\n",
       "    <tr>\n",
       "      <th>33</th>\n",
       "      <td>13135</td>\n",
       "      <td>3361</td>\n",
       "      <td>wages</td>\n",
       "      <td>0.0</td>\n",
       "    </tr>\n",
       "    <tr>\n",
       "      <th>34</th>\n",
       "      <td>13135</td>\n",
       "      <td>336111</td>\n",
       "      <td>wages</td>\n",
       "      <td>0.0</td>\n",
       "    </tr>\n",
       "    <tr>\n",
       "      <th>35</th>\n",
       "      <td>13143</td>\n",
       "      <td>3361</td>\n",
       "      <td>wages</td>\n",
       "      <td>0.0</td>\n",
       "    </tr>\n",
       "    <tr>\n",
       "      <th>36</th>\n",
       "      <td>13143</td>\n",
       "      <td>336111</td>\n",
       "      <td>wages</td>\n",
       "      <td>0.0</td>\n",
       "    </tr>\n",
       "    <tr>\n",
       "      <th>37</th>\n",
       "      <td>13151</td>\n",
       "      <td>3361</td>\n",
       "      <td>wages</td>\n",
       "      <td>0.0</td>\n",
       "    </tr>\n",
       "    <tr>\n",
       "      <th>38</th>\n",
       "      <td>13151</td>\n",
       "      <td>336111</td>\n",
       "      <td>wages</td>\n",
       "      <td>0.0</td>\n",
       "    </tr>\n",
       "    <tr>\n",
       "      <th>39</th>\n",
       "      <td>13157</td>\n",
       "      <td>3361</td>\n",
       "      <td>wages</td>\n",
       "      <td>0.0</td>\n",
       "    </tr>\n",
       "    <tr>\n",
       "      <th>40</th>\n",
       "      <td>13157</td>\n",
       "      <td>336111</td>\n",
       "      <td>wages</td>\n",
       "      <td>0.0</td>\n",
       "    </tr>\n",
       "    <tr>\n",
       "      <th>41</th>\n",
       "      <td>13185</td>\n",
       "      <td>3361</td>\n",
       "      <td>wages</td>\n",
       "      <td>0.0</td>\n",
       "    </tr>\n",
       "    <tr>\n",
       "      <th>42</th>\n",
       "      <td>13185</td>\n",
       "      <td>336111</td>\n",
       "      <td>wages</td>\n",
       "      <td>0.0</td>\n",
       "    </tr>\n",
       "    <tr>\n",
       "      <th>43</th>\n",
       "      <td>13285</td>\n",
       "      <td>3361</td>\n",
       "      <td>wages</td>\n",
       "      <td>0.0</td>\n",
       "    </tr>\n",
       "    <tr>\n",
       "      <th>44</th>\n",
       "      <td>13285</td>\n",
       "      <td>336111</td>\n",
       "      <td>wages</td>\n",
       "      <td>0.0</td>\n",
       "    </tr>\n",
       "    <tr>\n",
       "      <th>45</th>\n",
       "      <td>13299</td>\n",
       "      <td>3361</td>\n",
       "      <td>wages</td>\n",
       "      <td>0.0</td>\n",
       "    </tr>\n",
       "    <tr>\n",
       "      <th>46</th>\n",
       "      <td>13313</td>\n",
       "      <td>3361</td>\n",
       "      <td>wages</td>\n",
       "      <td>0.0</td>\n",
       "    </tr>\n",
       "    <tr>\n",
       "      <th>47</th>\n",
       "      <td>13313</td>\n",
       "      <td>336111</td>\n",
       "      <td>wages</td>\n",
       "      <td>0.0</td>\n",
       "    </tr>\n",
       "  </tbody>\n",
       "</table>\n",
       "</div>"
      ],
      "text/plain": [
       "     fips   naics  Class  FlowAmount\n",
       "24  13013    3361  wages         0.0\n",
       "25  13013  336111  wages         0.0\n",
       "26  13067    3361  wages         0.0\n",
       "27  13089    3361  wages         0.0\n",
       "28  13089  336111  wages         0.0\n",
       "29  13119    3361  wages         0.0\n",
       "30  13119  336111  wages         0.0\n",
       "31  13121    3361  wages         0.0\n",
       "32  13121  336111  wages         0.0\n",
       "33  13135    3361  wages         0.0\n",
       "34  13135  336111  wages         0.0\n",
       "35  13143    3361  wages         0.0\n",
       "36  13143  336111  wages         0.0\n",
       "37  13151    3361  wages         0.0\n",
       "38  13151  336111  wages         0.0\n",
       "39  13157    3361  wages         0.0\n",
       "40  13157  336111  wages         0.0\n",
       "41  13185    3361  wages         0.0\n",
       "42  13185  336111  wages         0.0\n",
       "43  13285    3361  wages         0.0\n",
       "44  13285  336111  wages         0.0\n",
       "45  13299    3361  wages         0.0\n",
       "46  13313    3361  wages         0.0\n",
       "47  13313  336111  wages         0.0"
      ]
     },
     "execution_count": 26,
     "metadata": {},
     "output_type": "execute_result"
    }
   ],
   "source": [
    "georgia_df.query(f\"Class == 'wages'\")"
   ]
  },
  {
   "cell_type": "markdown",
   "id": "working-challenge",
   "metadata": {},
   "source": [
    "##  This is the end of Part 1.\n",
    "\n",
    "In the next edition I am going to explore state info vs county info and generate the output files."
   ]
  },
  {
   "cell_type": "code",
   "execution_count": null,
   "id": "after-reception",
   "metadata": {},
   "outputs": [],
   "source": []
  }
 ],
 "metadata": {
  "kernelspec": {
   "display_name": "Python 3",
   "language": "python",
   "name": "python3"
  },
  "language_info": {
   "codemirror_mode": {
    "name": "ipython",
    "version": 3
   },
   "file_extension": ".py",
   "mimetype": "text/x-python",
   "name": "python",
   "nbconvert_exporter": "python",
   "pygments_lexer": "ipython3",
   "version": "3.8.5"
  }
 },
 "nbformat": 4,
 "nbformat_minor": 5
}
